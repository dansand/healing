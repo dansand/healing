{
 "cells": [
  {
   "cell_type": "code",
   "execution_count": null,
   "metadata": {
    "collapsed": false,
    "deletable": true,
    "editable": true
   },
   "outputs": [],
   "source": [
    "import underworld as uw\n",
    "import glucifer\n",
    "from underworld import function as fn\n",
    "import numpy as np\n",
    "%pylab inline"
   ]
  },
  {
   "cell_type": "code",
   "execution_count": null,
   "metadata": {
    "collapsed": true,
    "deletable": true,
    "editable": true
   },
   "outputs": [],
   "source": [
    "import os\n",
    "import sys\n",
    "\n",
    "if os.getcwd() == '/workspace/newSlab':\n",
    "    sys.path.append('../unsupported')\n",
    "\n",
    "#this does't actually need to be protected. More a reminder it's an interim measure\n",
    "try:\n",
    "    sys.path.append('../unsupported')\n",
    "except:\n",
    "    pass"
   ]
  },
  {
   "cell_type": "code",
   "execution_count": null,
   "metadata": {
    "collapsed": false,
    "deletable": true,
    "editable": true
   },
   "outputs": [],
   "source": [
    "from unsupported_dan.interfaces.marker2D import markerLine2D\n"
   ]
  },
  {
   "cell_type": "markdown",
   "metadata": {
    "deletable": true,
    "editable": true
   },
   "source": [
    "## Setup a closed domain Stokes problem"
   ]
  },
  {
   "cell_type": "code",
   "execution_count": null,
   "metadata": {
    "collapsed": false,
    "deletable": true,
    "editable": true
   },
   "outputs": [],
   "source": [
    "def convection_vels(res):\n",
    "    mesh = uw.mesh.FeMesh_Cartesian( elementType = (\"Q1/dQ0\"), \n",
    "    elementRes  = (res, res), \n",
    "    minCoord    = (0., 0.), \n",
    "    maxCoord    = (1., 1.))\n",
    "    velocityField       = uw.mesh.MeshVariable( mesh=mesh,         nodeDofCount=2 )\n",
    "    pressureField       = uw.mesh.MeshVariable( mesh=mesh.subMesh, nodeDofCount=1 )\n",
    "    \n",
    "    # Set viscosity to be a constant.\n",
    "    viscosity = 1.\n",
    "    # Rayleigh number.\n",
    "    Ra = 1.0e2\n",
    "    coord = fn.input()\n",
    "    pertCoeff = fn.math.cos( 2.*np.pi * coord[0] ) * fn.math.sin( 1.*np.pi * coord[1] )\n",
    "    \n",
    "    # Construct our density function.\n",
    "    densityFn = Ra * pertCoeff \n",
    "    buoyancyFn = densityFn*(0.,1.)\n",
    "    \n",
    "    iWalls = mesh.specialSets[\"MinI_VertexSet\"] + mesh.specialSets[\"MaxI_VertexSet\"]\n",
    "    jWalls = mesh.specialSets[\"MinJ_VertexSet\"] + mesh.specialSets[\"MaxJ_VertexSet\"]\n",
    "    \n",
    "    # 2D velocity vector can have two Dirichlet conditions on each vertex, \n",
    "    # v_x is fixed on the iWalls (vertical), v_y is fixed on the jWalls (horizontal)\n",
    "    velBC  = uw.conditions.DirichletCondition( variable        = velocityField, \n",
    "                                               indexSetsPerDof = (iWalls, jWalls) )\n",
    "    \n",
    "    stokes = uw.systems.Stokes( velocityField = velocityField, \n",
    "                            pressureField = pressureField,\n",
    "                            conditions    = velBC,\n",
    "                            fn_viscosity  = viscosity, \n",
    "                            fn_bodyforce  = buoyancyFn )\n",
    "\n",
    "    # get the default stokes equation solver\n",
    "    solver = uw.systems.Solver( stokes )\n",
    "    solver.solve()\n",
    "    \n",
    "    return mesh, velocityField"
   ]
  },
  {
   "cell_type": "code",
   "execution_count": null,
   "metadata": {
    "collapsed": false,
    "deletable": true,
    "editable": true
   },
   "outputs": [],
   "source": [
    "mesh, velocityField = convection_vels(16)"
   ]
  },
  {
   "cell_type": "code",
   "execution_count": null,
   "metadata": {
    "collapsed": false,
    "deletable": true,
    "editable": true
   },
   "outputs": [],
   "source": []
  },
  {
   "cell_type": "markdown",
   "metadata": {
    "deletable": true,
    "editable": true
   },
   "source": [
    "## Setup a marker"
   ]
  },
  {
   "cell_type": "code",
   "execution_count": null,
   "metadata": {
    "collapsed": false,
    "deletable": true,
    "editable": true
   },
   "outputs": [],
   "source": [
    "# work on 5 markers per element\n",
    "num = int(0.5*5*mesh.elementRes[0])\n",
    "ds = 0.5/num\n",
    "\n",
    "print(num, ds)"
   ]
  },
  {
   "cell_type": "code",
   "execution_count": null,
   "metadata": {
    "collapsed": false,
    "deletable": true,
    "editable": true
   },
   "outputs": [],
   "source": [
    "xs = np.linspace(0.25, 0.75, num,) #+ 0.2*(0.5/num)*np.random.rand(num)\n",
    "\n",
    "#randomly sort our points\n",
    "idx = np.random.permutation(xs.size)\n",
    "xs = xs[idx]\n",
    "\n",
    "ys = xs #+ 0.1*np.sin(xs*(2*np.pi/0.5))\n",
    "\n",
    "\n",
    "marker1 = markerLine2D(mesh, velocityField, xs, ys, 0.1, 1., insidePt=(0.,0.))"
   ]
  },
  {
   "cell_type": "code",
   "execution_count": null,
   "metadata": {
    "collapsed": false,
    "deletable": true,
    "editable": true
   },
   "outputs": [],
   "source": [
    "fig = glucifer.Figure( figsize=(800,400) )\n",
    "#fig.append( glucifer.objects.Surface(mesh,fn.math.dot(velocityField, velocityField)) )\n",
    "#fig.append( glucifer.objects.VectorArrows(mesh, velocityField, scaling = 1e-1))\n",
    "fig.append( glucifer.objects.Points(marker1.swarm, pointSize=4))\n",
    "\n",
    "fig.append( glucifer.objects.Mesh(mesh) )\n",
    "#fig.save_database('test.gldb')\n",
    "fig.show()"
   ]
  },
  {
   "cell_type": "code",
   "execution_count": null,
   "metadata": {
    "collapsed": false,
    "deletable": true,
    "editable": true
   },
   "outputs": [],
   "source": [
    "#Build an advector to get the dt\n",
    "advector = uw.systems.SwarmAdvector( swarm=marker1.swarm, velocityField=velocityField, order=2 )\n",
    "dt = advector.get_max_dt()"
   ]
  },
  {
   "cell_type": "code",
   "execution_count": null,
   "metadata": {
    "collapsed": false,
    "deletable": true,
    "editable": true
   },
   "outputs": [],
   "source": []
  },
  {
   "cell_type": "code",
   "execution_count": null,
   "metadata": {
    "collapsed": false
   },
   "outputs": [],
   "source": [
    "#fig.show()"
   ]
  },
  {
   "cell_type": "markdown",
   "metadata": {
    "deletable": true,
    "editable": true
   },
   "source": [
    "## Healing\n",
    "\n",
    "### Overview\n",
    "\n",
    "For 2D, we want to have a markerLine method for:\n",
    "\n",
    "* particle addition (m, fac)\n",
    "* partcle deletion  (m, fac)\n",
    "* smoothing (m, fac)\n",
    "\n",
    "In each case, these should only take two paramters - mean distance, and a control param \n",
    "\n",
    "There are 4 parts to this problem. \n",
    "\n",
    "First, the neighbours matrix. Which we want as a method on our markerlines\n",
    "\n",
    "\n",
    "Then the implementation of the 3 methods.\n",
    "\n",
    "### Parallel Safety\n",
    "\n",
    "At all stages we should work with teh swarm data + shadow, \n",
    "\n",
    "ignore the distinction betweem local and shadow data, and let Underworld clean up for us\n",
    "\n"
   ]
  },
  {
   "cell_type": "markdown",
   "metadata": {},
   "source": [
    "## Fundamental methods"
   ]
  },
  {
   "cell_type": "code",
   "execution_count": null,
   "metadata": {
    "collapsed": true,
    "deletable": true,
    "editable": true
   },
   "outputs": [],
   "source": [
    "def neighbourMatrix(self, k= 4):\n",
    "\n",
    "    \"\"\"\n",
    "    neighbourMatrix tries to build nieghbour information for a markerLine, \n",
    "    assuming that the points are unordered. \n",
    "    \n",
    "    For any point, the first neighbour is the closest point.\n",
    "    The second neighbour is the closest remaiing point in the set that forms an angle of more than 90 degree\n",
    "    to the first neighbour (vector)\n",
    "    \n",
    "    k is the number of neighbours to test before deciding that a nearest neigbour cannot be found\n",
    "    \n",
    "    the information is returned in the form of a dense matrix, where eacg row corresponds to a point in the marker line\n",
    "    And most rows will have exactly two non-zero eleemnt, the indexed of the two nearest neighbour. \n",
    "    For these points, the matrix is symmetric\n",
    "    \n",
    "    Ideally, there are two rows with only one non-zero column. These are the endpoints. \n",
    "    (could be better to have a 1 on the diagonal for these?)\n",
    "    \n",
    "    \"\"\"\n",
    "    \n",
    "    #################\n",
    "    #Neigbour 1\n",
    "    #################\n",
    "\n",
    "    #get the particle coordinates, in the order that the kdTree query naturally returns them\n",
    "    all_particle_coords = self.kdtree.data\n",
    "    queryOut = self.kdtree.query(all_particle_coords, k=all_particle_coords.shape[0] )\n",
    "    ids = queryOut[1]\n",
    "    #build the matrix of neighbour -adjacency\n",
    "    AN = np.zeros((all_particle_coords.shape[0],all_particle_coords.shape[0] ))\n",
    "\n",
    "    #First add the nearest neighbour, which is column one in ids (ids[np.arange(len(AN)), 1])\n",
    "    AN[ids[:,0],ids[np.arange(len(AN)), 1]] =  1\n",
    "\n",
    "    \n",
    "\n",
    "    #################\n",
    "    #Neigbour 2\n",
    "    #################\n",
    "    coords = all_particle_coords[ids]\n",
    "    \n",
    "    #for each row in vectorArray, every col. is the vector between the neighbours (distance ordered) and the reference particle\n",
    "    #None the None arg needed to get the broadcasting right\n",
    "    vectorArray = ( all_particle_coords[ids[:,:]] - all_particle_coords[ids[:,None,0]])\n",
    "\n",
    "    #this computes the dot product of the neighbour 1 vector with all other neighbour vectors\n",
    "    dotProdCompare = np.einsum('ijk, ik->ij', vectorArray[:,:,:], vectorArray[:,1,:])\n",
    "    dotProdCompare[:,1]\n",
    "\n",
    "    #find the first point for which the position vector has a negative dot product with the nearest neighbour\n",
    "\n",
    "    negDots = dotProdCompare < 0.\n",
    "\n",
    "    #Here's where we limit the search to k nearest neighbours\n",
    "    if k:\n",
    "        negDots[:,k:] = False\n",
    "\n",
    "    #cols holds the index the column of the first negative entry (negative dot-product). \n",
    "    cols = np.argmax(negDots[:,:], axis = 1)\n",
    "    #Note if cols is zero, it means no obtuse neighbour was found - likely an end particle.\n",
    "    answer = ids[np.arange(all_particle_coords.shape[0]),cols]\n",
    "    #now add the first subsequent neighbour that is obtuse to the first\n",
    "    AN[ids[:,0],answer] =  1\n",
    "    #Now remove diagonals - these were any particles where a nearest obtuse neighbour couldn't be found\n",
    "    np.fill_diagonal(AN, 0)\n",
    "    \n",
    "    return AN"
   ]
  },
  {
   "cell_type": "code",
   "execution_count": null,
   "metadata": {
    "collapsed": true
   },
   "outputs": [],
   "source": [
    "def pairDistanceMatrix(self):\n",
    "    \"\"\"\n",
    "    \"\"\"\n",
    "    partx = self.kdtree.data[:,0]\n",
    "    party = self.kdtree.data[:,1]\n",
    "    dx = np.subtract.outer(partx , partx )\n",
    "    dy = np.subtract.outer(party, party)\n",
    "    distanceMatrix = np.hypot(dx, dy)\n",
    "\n",
    "    return distanceMatrix"
   ]
  },
  {
   "cell_type": "code",
   "execution_count": null,
   "metadata": {
    "collapsed": true,
    "deletable": true,
    "editable": true
   },
   "outputs": [],
   "source": [
    "#Monkey patch this method...\n",
    "#See here for why types is needed https://tryolabs.com/blog/2013/07/05/run-time-method-patching-python/\n",
    "\n",
    "#marker1.neighbour1Matrix = neighbour1Matrix\n",
    "\n",
    "\n",
    "import types\n",
    "marker1.neighbourMatrix = types.MethodType(neighbourMatrix, marker1)\n",
    "\n",
    "marker1.pairDistanceMatrix = types.MethodType(pairDistanceMatrix, marker1)"
   ]
  },
  {
   "cell_type": "code",
   "execution_count": null,
   "metadata": {
    "collapsed": false,
    "deletable": true,
    "editable": true
   },
   "outputs": [],
   "source": [
    "M1 = marker1.neighbourMatrix(k= 6)\n",
    "P1 = marker1.pairDistanceMatrix()"
   ]
  },
  {
   "cell_type": "code",
   "execution_count": null,
   "metadata": {
    "collapsed": false,
    "deletable": true,
    "editable": true
   },
   "outputs": [],
   "source": [
    "symM1 = 0.5*(M1 + M1.T)"
   ]
  },
  {
   "cell_type": "code",
   "execution_count": null,
   "metadata": {
    "collapsed": false,
    "deletable": true,
    "editable": true
   },
   "outputs": [],
   "source": [
    "print(unique(symM1))\n",
    "\n",
    "if uw.nProcs() == 1:\n",
    "    plt.imshow(M1)"
   ]
  },
  {
   "cell_type": "markdown",
   "metadata": {
    "deletable": true,
    "editable": true
   },
   "source": [
    "\n"
   ]
  },
  {
   "cell_type": "code",
   "execution_count": null,
   "metadata": {
    "collapsed": false,
    "deletable": true,
    "editable": true
   },
   "outputs": [],
   "source": [
    "if uw.nProcs() == 1:\n",
    "    plt.imshow(P1)"
   ]
  },
  {
   "cell_type": "code",
   "execution_count": null,
   "metadata": {
    "collapsed": false,
    "deletable": true,
    "editable": true
   },
   "outputs": [],
   "source": [
    "if uw.nProcs() == 1:\n",
    "    ends = np.where(np.sum(M1, axis = 0) == 1)[0]\n",
    "    ends2 = np.where(np.sum(M1, axis = 0) == 0)[0]\n",
    "\n",
    "    plt.scatter(marker1.kdtree.data[:,0], marker1.kdtree.data[:,1])\n",
    "    plt.scatter(marker1.kdtree.data[ends,0], marker1.kdtree.data[ends,1], c = 'r')\n",
    "    plt.scatter(marker1.kdtree.data[ends2,0], marker1.kdtree.data[ends2,1], c = 'r')"
   ]
  },
  {
   "cell_type": "markdown",
   "metadata": {
    "deletable": true,
    "editable": true
   },
   "source": [
    "## Notes\n",
    "\n",
    "Okay, so the the fancy angle weighting stuff didn't work. \n",
    "\n",
    "The original 'dot product' test does. This will be more than sufficient I think. \n"
   ]
  },
  {
   "cell_type": "markdown",
   "metadata": {},
   "source": [
    "## Adding Particles"
   ]
  },
  {
   "cell_type": "code",
   "execution_count": null,
   "metadata": {
    "collapsed": true
   },
   "outputs": [],
   "source": [
    "def particlesToAdd(markerLine, A, _lowdist, _updist = False):\n",
    "    \n",
    "    all_particle_coords = markerLine.kdtree.data\n",
    "    \n",
    "    \n",
    "    #We want only the lower half of the matrix, including the upper half would add particles twice\n",
    "    Alow = np.tril(A)\n",
    "    \n",
    "    pd = markerLine.pairDistanceMatrix()\n",
    "    \n",
    "    #Here is the distance mask\n",
    "    if _updist:\n",
    "        pdMask = np.logical_and(pd > _lowdist, pd < _updist)\n",
    "    else:\n",
    "        pdMask = pd > _lowdist\n",
    "    \n",
    "    #We only want to choose those particles that have two nearest neighbours (this hopefully excludes endpoints)\n",
    "    mask = np.where(A.sum(axis=1) != 2)\n",
    "    #Set those rows to zero\n",
    "    pdMask[mask,:]  = 0 \n",
    "    \n",
    "    #the magic is here - simply mutiply the neigbours matrix by the distance mask\n",
    "    AF = Alow*pdMask\n",
    "    \n",
    "    uniques = np.transpose(np.nonzero(AF))\n",
    "    #First, store a complete copy of the new particle positions (mean pair positions)\n",
    "    newPoints = np.copy(0.5*(all_particle_coords[uniques[:,0]] + all_particle_coords[uniques[:,1]]))\n",
    "    \n",
    "    return newPoints"
   ]
  },
  {
   "cell_type": "markdown",
   "metadata": {},
   "source": [
    "## Test"
   ]
  },
  {
   "cell_type": "code",
   "execution_count": null,
   "metadata": {
    "collapsed": false
   },
   "outputs": [],
   "source": [
    "if marker1.swarm.particleCoordinates.data.shape[0]:\n",
    "    A = marker1.neighbourMatrix( k =7)\n",
    "    newPoints = particlesToAdd(marker1, A, _lowdist=2.*ds)"
   ]
  },
  {
   "cell_type": "code",
   "execution_count": null,
   "metadata": {
    "collapsed": false
   },
   "outputs": [],
   "source": [
    "len(newPoints)"
   ]
  },
  {
   "cell_type": "code",
   "execution_count": null,
   "metadata": {
    "collapsed": true
   },
   "outputs": [],
   "source": [
    "for i in range(50):\n",
    "    marker1.advection(dt)\n",
    "    if marker1.swarm.particleCoordinates.data.shape[0]:\n",
    "        A = marker1.neighbourMatrix( k =4)\n",
    "        newPoints = particlesToAdd(marker1, A, _lowdist=2.*ds)\n",
    "        marker1.add_points(newPoints[:,0], newPoints[:,1])\n",
    "        marker1.rebuild()"
   ]
  },
  {
   "cell_type": "code",
   "execution_count": 23,
   "metadata": {
    "collapsed": false
   },
   "outputs": [
    {
     "data": {
      "text/plain": [
       "'test.gldb'"
      ]
     },
     "execution_count": 23,
     "metadata": {},
     "output_type": "execute_result"
    }
   ],
   "source": [
    "fig.save_database('test.gldb')"
   ]
  },
  {
   "cell_type": "code",
   "execution_count": null,
   "metadata": {
    "collapsed": true
   },
   "outputs": [],
   "source": []
  }
 ],
 "metadata": {
  "kernelspec": {
   "display_name": "Python 2",
   "language": "python",
   "name": "python2"
  },
  "language_info": {
   "codemirror_mode": {
    "name": "ipython",
    "version": 2
   },
   "file_extension": ".py",
   "mimetype": "text/x-python",
   "name": "python",
   "nbconvert_exporter": "python",
   "pygments_lexer": "ipython2",
   "version": "2.7.9"
  }
 },
 "nbformat": 4,
 "nbformat_minor": 2
}
